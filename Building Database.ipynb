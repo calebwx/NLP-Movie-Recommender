{
 "cells": [
  {
   "cell_type": "code",
   "execution_count": 1,
   "metadata": {},
   "outputs": [],
   "source": [
    "import numpy as np\n",
    "import pandas as pd\n",
    "import matplotlib.pyplot as plt\n",
    "import seaborn as sns\n",
    "import re\n",
    "\n",
    "import spacy\n",
    "from spacy.pipeline import EntityRuler\n",
    "from spacy.matcher import PhraseMatcher"
   ]
  },
  {
   "cell_type": "code",
   "execution_count": 176,
   "metadata": {},
   "outputs": [],
   "source": [
    "#This function uses regular expressions to do three things:\n",
    "#    1. replace URLs starting with https:// (like the links posted in many suggestions) with a space\n",
    "#    2. replace non-necessary charcaters with spaces. These are more often used for post formatting than titles, but can get in the way of detecting titles\n",
    "#    3. remove apostrohpes - do not replace with space. People are lazy with apostrophes and often forget them, or put them in the wrong places.\n",
    "\n",
    "def simplify_text(s):\n",
    "    return re.sub('[\\'\\\\u2019\\\\u0027]', '', re.sub('[^a-zA-Z0-9:;.,&$!?\\'\\\\u2019]', ' ', re.sub('https://[=?\\-_./\\w]+', ' ', s)))"
   ]
  },
  {
   "cell_type": "code",
   "execution_count": 273,
   "metadata": {},
   "outputs": [],
   "source": [
    "#This function takes a list of strings and makes them one string separated by '%' character\n",
    "#This is used to apply() to the suggested title ids column for easy splitting in other notebooks\n",
    "\n",
    "def list_to_string(s_list):\n",
    "    s_str = ''\n",
    "\n",
    "    for text in s_list:\n",
    "        s_str += text + \"%\"\n",
    "        \n",
    "    if len(s_str) == 0:\n",
    "        return np.nan\n",
    "    \n",
    "    return s_str[:-1]"
   ]
  },
  {
   "cell_type": "code",
   "execution_count": 175,
   "metadata": {},
   "outputs": [
    {
     "data": {
      "text/plain": [
       "'i like this SITE:   it is a good site'"
      ]
     },
     "execution_count": 175,
     "metadata": {},
     "output_type": "execute_result"
    }
   ],
   "source": [
    "re.sub('https://[=?\\-_./\\w]+', ' ', 'i like this SITE: https://google.com/s?v=7812349-name-you/.html it is a good site')"
   ]
  },
  {
   "cell_type": "code",
   "execution_count": 103,
   "metadata": {},
   "outputs": [],
   "source": [
    "def get_matches(doc, debug = False):\n",
    "    m_list = []\n",
    "    to_remove = []\n",
    "    \n",
    "    matches = matcher(doc)\n",
    "    \n",
    "    if debug:\n",
    "        print(doc.text)\n",
    "\n",
    "    for i, match in enumerate(matches):\n",
    "        m_start = match[1]\n",
    "        m_end = match[2]\n",
    "        m_list.append((m_start, m_end))\n",
    "        \n",
    "        if debug:\n",
    "            print(match)\n",
    "            print(doc[m_start : m_end], end = ' ')\n",
    "            \n",
    "        #This code block removes false positives of movie titles that appear within other movie titles\n",
    "        #For example, \"The Mask\" would appear in \"Son of The Mask\" but the latter would be the true recommendation\n",
    "\n",
    "        if(len(m_list) > 1):\n",
    "            if m_list[-1][0] >= m_list[-2][0] and m_list[-1][0] <= m_list[-2][1]:\n",
    "                if abs(m_list[-1][1] - m_list[-1][0]) > abs(m_list[-2][1]-m_list[-2][0]):\n",
    "                    if debug:\n",
    "                        print(\"REMOVE ABOVE\", end ='')\n",
    "                    to_remove.append(i-1)\n",
    "                else:\n",
    "                    if debug:\n",
    "                        print(\"REMOVE THIS\", end = '')\n",
    "                    to_remove.append(i)\n",
    "\n",
    "        if debug:\n",
    "            print('')\n",
    "\n",
    "    for i in to_remove[::-1]:\n",
    "        matches.pop(i)\n",
    "\n",
    "    return matches"
   ]
  },
  {
   "cell_type": "markdown",
   "metadata": {},
   "source": [
    "---"
   ]
  },
  {
   "cell_type": "code",
   "execution_count": 86,
   "metadata": {},
   "outputs": [
    {
     "data": {
      "text/plain": [
       "('ner', <spacy.pipeline.pipes.EntityRecognizer at 0x26388aff6a8>)"
      ]
     },
     "execution_count": 86,
     "metadata": {},
     "output_type": "execute_result"
    }
   ],
   "source": [
    "nlp = spacy.load('en_core_web_lg')\n",
    "nlp.remove_pipe('ner')"
   ]
  },
  {
   "cell_type": "code",
   "execution_count": 239,
   "metadata": {},
   "outputs": [],
   "source": [
    "movies = pd.read_csv('./movies_data/movies.csv').drop(columns = ['Unnamed: 0'])\n",
    "requests = pd.read_csv('./data/moviesuggestions_data.csv')\n",
    "comments = pd.read_csv('./movies_data/comments_data.csv')"
   ]
  },
  {
   "cell_type": "code",
   "execution_count": 178,
   "metadata": {},
   "outputs": [],
   "source": [
    "titles_list = []\n",
    "titles_lower = []\n",
    "ids_list = []\n",
    "\n",
    "for i, titles in enumerate(list(movies['titles'])):\n",
    "    split_titles = titles.split('%')\n",
    "    titles_list += split_titles\n",
    "    \n",
    "    for _ in range(len(split_titles)):\n",
    "        ids_list.append(movies['id'][i])\n",
    "    \n",
    "for title in titles_list:\n",
    "    titles_lower.append(simplify_text(title).lower())"
   ]
  },
  {
   "cell_type": "markdown",
   "metadata": {},
   "source": [
    "For now, the system will return only the most recent movie when multiple movies share the same name. Further down the road, one goal may be to identify different movies with the same name (when possible) such as '101 Dalmations' 1961 or 1996. When comments include the year this will be possible, though it may not be easy. However, I will prepare the dictionaries with title years now for use later."
   ]
  },
  {
   "cell_type": "code",
   "execution_count": 179,
   "metadata": {},
   "outputs": [],
   "source": [
    "# https://www.geeksforgeeks.org/python-convert-two-lists-into-a-dictionary/\n",
    "name_dict = {titles_lower[i] : ids_list[i] for i in range(len(titles_lower))}\n",
    "name_dict_with_dups = {}\n",
    "\n",
    "for i in range(len(titles_lower)-1, -1, -1):\n",
    "    # https://stackoverflow.com/a/18552025\n",
    "    if titles_lower[i] in list(name_dict_with_dups):\n",
    "        name_dict_with_dups[titles_lower[i] + ' ' + str(movies[movies['id'] == ids_list[i]]['year'].values[0])] = ids_list[i]\n",
    "    else:\n",
    "        name_dict_with_dups[titles_lower[i]] = ids_list[i]\n",
    "        \n",
    "\n",
    "name_dict_dups_only = {i : name_dict_with_dups[i] for i in list(name_dict_with_dups) if i not in list(name_dict)}"
   ]
  },
  {
   "cell_type": "code",
   "execution_count": 180,
   "metadata": {},
   "outputs": [],
   "source": [
    "patterns = [nlp.make_doc(text) for text in titles_lower]\n",
    "\n",
    "matcher = PhraseMatcher(nlp.vocab)\n",
    "matcher.add(\"MovieTitles\", None, *patterns)"
   ]
  },
  {
   "cell_type": "code",
   "execution_count": 181,
   "metadata": {},
   "outputs": [],
   "source": [
    "#Only get top-level comments: those comments whose \"parent\" is the submission, not another comment\n",
    "comments = comments[comments['parent_id'] == comments['link_id']]\n",
    "comments.reset_index(inplace=True)"
   ]
  },
  {
   "cell_type": "code",
   "execution_count": 182,
   "metadata": {},
   "outputs": [],
   "source": [
    "comments_simple = comments.copy()\n",
    "comments_simple['body'] = comments_simple['body'].apply(simplify_text)"
   ]
  },
  {
   "cell_type": "markdown",
   "metadata": {},
   "source": [
    "---"
   ]
  },
  {
   "cell_type": "code",
   "execution_count": 183,
   "metadata": {},
   "outputs": [],
   "source": [
    "#MOVIES TO REMOVE:\n",
    "#It, Them, Fun, Romance"
   ]
  },
  {
   "cell_type": "code",
   "execution_count": 184,
   "metadata": {},
   "outputs": [],
   "source": [
    "#Comment 558 can't match \"howl's moving castle\""
   ]
  },
  {
   "cell_type": "code",
   "execution_count": 185,
   "metadata": {},
   "outputs": [],
   "source": [
    "# There is a bot that compiles reccomendations. That could be very useful for me! But for now, I need to ignore it. Later, I can compare what movies I found to what the bot found.\n",
    "# author = 'cinephilebot'\n",
    "flag = '   Replying after taking permission from mod'\n",
    "\n",
    "ignore_list = []\n",
    "\n",
    "for i, comment in enumerate(comments_simple['body']):\n",
    "    if flag == comment[:len(flag)]:\n",
    "        ignore_list.append(i)"
   ]
  },
  {
   "cell_type": "markdown",
   "metadata": {},
   "source": [
    "matched_title = com1[matches[0][1] : matches[0][2]]\n",
    "\n",
    "movies[movies.id == name_dict[matched_title.text]]"
   ]
  },
  {
   "cell_type": "code",
   "execution_count": 240,
   "metadata": {},
   "outputs": [],
   "source": [
    "# A little more cleaning to get ready to make the new dataframe: requests + suggestions\n",
    "\n",
    "comments_simple = comments_simple[comments_simple['is_submitter'] == False]\n",
    "\n",
    "comments_simple['link_id'] = comments_simple['link_id'].str[3:]\n",
    "\n",
    "comments_simple = comments_simple[['author', 'score', 'body', 'link_id', 'is_submitter']]\n",
    "\n",
    "requests = requests[['id', 'created_utc', 'title', 'selftext']]"
   ]
  },
  {
   "cell_type": "code",
   "execution_count": 187,
   "metadata": {},
   "outputs": [
    {
     "data": {
      "text/html": [
       "<div>\n",
       "<style scoped>\n",
       "    .dataframe tbody tr th:only-of-type {\n",
       "        vertical-align: middle;\n",
       "    }\n",
       "\n",
       "    .dataframe tbody tr th {\n",
       "        vertical-align: top;\n",
       "    }\n",
       "\n",
       "    .dataframe thead th {\n",
       "        text-align: right;\n",
       "    }\n",
       "</style>\n",
       "<table border=\"1\" class=\"dataframe\">\n",
       "  <thead>\n",
       "    <tr style=\"text-align: right;\">\n",
       "      <th></th>\n",
       "      <th>title</th>\n",
       "      <th>selftext</th>\n",
       "      <th>movie_ids</th>\n",
       "    </tr>\n",
       "  </thead>\n",
       "  <tbody>\n",
       "  </tbody>\n",
       "</table>\n",
       "</div>"
      ],
      "text/plain": [
       "Empty DataFrame\n",
       "Columns: [title, selftext, movie_ids]\n",
       "Index: []"
      ]
     },
     "execution_count": 187,
     "metadata": {},
     "output_type": "execute_result"
    }
   ],
   "source": [
    "suggestions = pd.DataFrame(columns = ['title', 'selftext', 'movie_ids'])\n",
    "suggestions"
   ]
  },
  {
   "cell_type": "code",
   "execution_count": 211,
   "metadata": {},
   "outputs": [],
   "source": [
    "#Create a dictionary with keys = request posts, and values = list of suggestions by commenters\n",
    "\n",
    "#POSSIBLE CHANGES:\n",
    "#   1. make a list of tuples instead of strings, each tuple containing a suggested title_ID and post score - to find quality suggestions\n",
    "#   2. narrow down the comments by only taking the top X, or using a higher value on the score filter\n",
    "\n",
    "sugg_dict = {link_id : [] for link_id in requests['id']}\n",
    "\n",
    "for i in comments_simple.index:\n",
    "    row = comments_simple[comments_simple.index == i]\n",
    "    if (row['score'].values[0] <= 0 ) or (i in ignore_list):\n",
    "        continue\n",
    "    \n",
    "    body = nlp(row['body'].values[0].lower())\n",
    "    link_id = row['link_id'].values[0]\n",
    "    \n",
    "    matches = get_matches(body)\n",
    "    \n",
    "    for match in matches:\n",
    "        matched_title = body[match[1] : match[2]]\n",
    "        try:\n",
    "            sugg_dict[link_id].append(name_dict[matched_title.text])\n",
    "        except:\n",
    "            #print(f\"Failed match: {matched_title.text}, comment index {i}\")\n",
    "            pass"
   ]
  },
  {
   "cell_type": "code",
   "execution_count": 215,
   "metadata": {},
   "outputs": [
    {
     "name": "stdout",
     "output_type": "stream",
     "text": [
      "There are an average of 27.9 suggestions per request\n",
      "There are an average of 22.3 unique suggestions per request\n",
      "Out of 310 requests, 35 (11.3%) had 0 suggestions (that were found).\n",
      "The request with the most suggestions had 354 suggestions.\n"
     ]
    }
   ],
   "source": [
    "# Examining the results:\n",
    "\n",
    "count = 0\n",
    "zero_count = 0\n",
    "sugg_sum = 0\n",
    "uniq_sum = 0\n",
    "max_sugg = 0\n",
    "\n",
    "for i in sugg_dict:\n",
    "    count += 1\n",
    "    sugg_list = sugg_dict[i]\n",
    "    list_len = len(sugg_list)\n",
    "    uniq_sum += len(set(sugg_list))\n",
    "    sugg_sum += list_len\n",
    "    if list_len == 0:\n",
    "        zero_count += 1\n",
    "    if list_len > max_sugg:\n",
    "        max_sugg = list_len\n",
    "    \n",
    "print(f\"There are an average of {round(sugg_sum/count, 1)} suggestions per request\")\n",
    "print(f\"There are an average of {round(uniq_sum/count, 1)} unique suggestions per request\")\n",
    "print(f\"Out of {count} requests, {zero_count} ({np.round(100*zero_count/count,1)}%) had 0 suggestions (that were found).\")\n",
    "print(f\"The request with the most suggestions had {max_sugg} suggestions.\")"
   ]
  },
  {
   "cell_type": "code",
   "execution_count": 221,
   "metadata": {},
   "outputs": [],
   "source": [
    "# cast the list to a set, and back to a list, to remove duplicate suggestions\n",
    "\n",
    "idx_list = []\n",
    "sugg_list_list = []\n",
    "\n",
    "for i in sugg_dict:\n",
    "    sugg_dict[i] = list(set(sugg_dict[i]))\n",
    "    idx_list.append(i)\n",
    "    sugg_list_list.append(sugg_dict[i])"
   ]
  },
  {
   "cell_type": "code",
   "execution_count": 155,
   "metadata": {},
   "outputs": [
    {
     "data": {
      "text/plain": [
       "'tt0060196'"
      ]
     },
     "execution_count": 155,
     "metadata": {},
     "output_type": "execute_result"
    }
   ],
   "source": [
    "name_dict['the good, the bad and the ugly']"
   ]
  },
  {
   "cell_type": "code",
   "execution_count": 205,
   "metadata": {},
   "outputs": [
    {
     "data": {
      "text/html": [
       "<div>\n",
       "<style scoped>\n",
       "    .dataframe tbody tr th:only-of-type {\n",
       "        vertical-align: middle;\n",
       "    }\n",
       "\n",
       "    .dataframe tbody tr th {\n",
       "        vertical-align: top;\n",
       "    }\n",
       "\n",
       "    .dataframe thead th {\n",
       "        text-align: right;\n",
       "    }\n",
       "</style>\n",
       "<table border=\"1\" class=\"dataframe\">\n",
       "  <thead>\n",
       "    <tr style=\"text-align: right;\">\n",
       "      <th></th>\n",
       "      <th>author</th>\n",
       "      <th>score</th>\n",
       "      <th>body</th>\n",
       "      <th>link_id</th>\n",
       "      <th>is_submitter</th>\n",
       "    </tr>\n",
       "  </thead>\n",
       "  <tbody>\n",
       "    <tr>\n",
       "      <th>340</th>\n",
       "      <td>cinephile_bot</td>\n",
       "      <td>1</td>\n",
       "      <td>Replying after taking permission from mod  ...</td>\n",
       "      <td>iw5yrd</td>\n",
       "      <td>False</td>\n",
       "    </tr>\n",
       "    <tr>\n",
       "      <th>423</th>\n",
       "      <td>whattheheckisdecaf</td>\n",
       "      <td>1</td>\n",
       "      <td>Dread  2009</td>\n",
       "      <td>iw5yrd</td>\n",
       "      <td>False</td>\n",
       "    </tr>\n",
       "    <tr>\n",
       "      <th>479</th>\n",
       "      <td>Randytheadventurer</td>\n",
       "      <td>1</td>\n",
       "      <td>Dark &amp;amp; Messed up;    Split,  Feast    Cr...</td>\n",
       "      <td>iw5yrd</td>\n",
       "      <td>False</td>\n",
       "    </tr>\n",
       "    <tr>\n",
       "      <th>497</th>\n",
       "      <td>visibly_hangry</td>\n",
       "      <td>1</td>\n",
       "      <td>Dear Zachary</td>\n",
       "      <td>iw5yrd</td>\n",
       "      <td>False</td>\n",
       "    </tr>\n",
       "    <tr>\n",
       "      <th>508</th>\n",
       "      <td>mohantharani</td>\n",
       "      <td>1</td>\n",
       "      <td>The killing of a sacred deer.</td>\n",
       "      <td>iw5yrd</td>\n",
       "      <td>False</td>\n",
       "    </tr>\n",
       "    <tr>\n",
       "      <th>509</th>\n",
       "      <td>Bruhm0ment084</td>\n",
       "      <td>4</td>\n",
       "      <td>Se7en and Prisoners are two good choices.</td>\n",
       "      <td>iw5yrd</td>\n",
       "      <td>False</td>\n",
       "    </tr>\n",
       "    <tr>\n",
       "      <th>524</th>\n",
       "      <td>steelflexjones</td>\n",
       "      <td>2</td>\n",
       "      <td>Antichrist?</td>\n",
       "      <td>iw5yrd</td>\n",
       "      <td>False</td>\n",
       "    </tr>\n",
       "    <tr>\n",
       "      <th>525</th>\n",
       "      <td>StephenKeen</td>\n",
       "      <td>2</td>\n",
       "      <td>Annihilation</td>\n",
       "      <td>iw5yrd</td>\n",
       "      <td>False</td>\n",
       "    </tr>\n",
       "    <tr>\n",
       "      <th>527</th>\n",
       "      <td>R3dn3kH1ppy</td>\n",
       "      <td>2</td>\n",
       "      <td>Have you watched requiem for a dream</td>\n",
       "      <td>iw5yrd</td>\n",
       "      <td>False</td>\n",
       "    </tr>\n",
       "  </tbody>\n",
       "</table>\n",
       "</div>"
      ],
      "text/plain": [
       "                 author  score  \\\n",
       "340       cinephile_bot      1   \n",
       "423  whattheheckisdecaf      1   \n",
       "479  Randytheadventurer      1   \n",
       "497      visibly_hangry      1   \n",
       "508        mohantharani      1   \n",
       "509       Bruhm0ment084      4   \n",
       "524      steelflexjones      2   \n",
       "525         StephenKeen      2   \n",
       "527         R3dn3kH1ppy      2   \n",
       "\n",
       "                                                  body link_id  is_submitter  \n",
       "340     Replying after taking permission from mod  ...  iw5yrd         False  \n",
       "423                                       Dread  2009   iw5yrd         False  \n",
       "479    Dark &amp; Messed up;    Split,  Feast    Cr...  iw5yrd         False  \n",
       "497                                       Dear Zachary  iw5yrd         False  \n",
       "508                      The killing of a sacred deer.  iw5yrd         False  \n",
       "509          Se7en and Prisoners are two good choices.  iw5yrd         False  \n",
       "524                                        Antichrist?  iw5yrd         False  \n",
       "525                                       Annihilation  iw5yrd         False  \n",
       "527               Have you watched requiem for a dream  iw5yrd         False  "
      ]
     },
     "execution_count": 205,
     "metadata": {},
     "output_type": "execute_result"
    }
   ],
   "source": [
    "post_id = requests[55:56]['id'].values[0]\n",
    "comments_simple[comments_simple['link_id'] == post_id]"
   ]
  },
  {
   "cell_type": "code",
   "execution_count": 271,
   "metadata": {},
   "outputs": [],
   "source": [
    "sugg_df = pd.DataFrame(columns= ['id', 'suggestions'])\n",
    "sugg_df['id'] = idx_list\n",
    "sugg_df['suggestions'] = sugg_list_list\n",
    "\n",
    "requests_with_suggestions = requests.merge(right = sugg_df, left_on = 'id', right_on = 'id')"
   ]
  },
  {
   "cell_type": "code",
   "execution_count": 272,
   "metadata": {},
   "outputs": [
    {
     "data": {
      "text/html": [
       "<div>\n",
       "<style scoped>\n",
       "    .dataframe tbody tr th:only-of-type {\n",
       "        vertical-align: middle;\n",
       "    }\n",
       "\n",
       "    .dataframe tbody tr th {\n",
       "        vertical-align: top;\n",
       "    }\n",
       "\n",
       "    .dataframe thead th {\n",
       "        text-align: right;\n",
       "    }\n",
       "</style>\n",
       "<table border=\"1\" class=\"dataframe\">\n",
       "  <thead>\n",
       "    <tr style=\"text-align: right;\">\n",
       "      <th></th>\n",
       "      <th>id</th>\n",
       "      <th>created_utc</th>\n",
       "      <th>title</th>\n",
       "      <th>selftext</th>\n",
       "      <th>suggestions</th>\n",
       "    </tr>\n",
       "  </thead>\n",
       "  <tbody>\n",
       "    <tr>\n",
       "      <th>0</th>\n",
       "      <td>ixcr5j</td>\n",
       "      <td>2020-09-21 19:17:15</td>\n",
       "      <td>Movies from the '70s.</td>\n",
       "      <td>I'm in search of movies from the '70s.  Non-En...</td>\n",
       "      <td>[tt0120655, tt0069467, tt0069704, tt0450345, t...</td>\n",
       "    </tr>\n",
       "    <tr>\n",
       "      <th>1</th>\n",
       "      <td>ixbv9u</td>\n",
       "      <td>2020-09-21 18:24:28</td>\n",
       "      <td>Style similar to Cinemania or Grey Gardens</td>\n",
       "      <td>I really liked how both of these documentaries...</td>\n",
       "      <td>[]</td>\n",
       "    </tr>\n",
       "    <tr>\n",
       "      <th>2</th>\n",
       "      <td>ixbsb4</td>\n",
       "      <td>2020-09-21 18:19:43</td>\n",
       "      <td>Movie about people that suffer from avoidant p...</td>\n",
       "      <td>\\nI dont know if theres any but basically Im ...</td>\n",
       "      <td>[]</td>\n",
       "    </tr>\n",
       "    <tr>\n",
       "      <th>3</th>\n",
       "      <td>ixbj02</td>\n",
       "      <td>2020-09-21 18:04:06</td>\n",
       "      <td>Looking for movies with deep conversations in ...</td>\n",
       "      <td>Like the beginning of Predestination for insta...</td>\n",
       "      <td>[]</td>\n",
       "    </tr>\n",
       "    <tr>\n",
       "      <th>4</th>\n",
       "      <td>ixamkm</td>\n",
       "      <td>2020-09-21 17:12:36</td>\n",
       "      <td>Looking For Time Loop Movies. Any Suggestions?</td>\n",
       "      <td>Saw Happy Death Day 2 U, Blood Punch, Before I...</td>\n",
       "      <td>[]</td>\n",
       "    </tr>\n",
       "    <tr>\n",
       "      <th>...</th>\n",
       "      <td>...</td>\n",
       "      <td>...</td>\n",
       "      <td>...</td>\n",
       "      <td>...</td>\n",
       "      <td>...</td>\n",
       "    </tr>\n",
       "    <tr>\n",
       "      <th>305</th>\n",
       "      <td>iroswy</td>\n",
       "      <td>2020-09-12 20:05:26</td>\n",
       "      <td>Futuristic Sci-Fi movies</td>\n",
       "      <td>I’m really into movies that take place in the ...</td>\n",
       "      <td>[tt0120201, tt0238380, tt0083658, tt0816692, t...</td>\n",
       "    </tr>\n",
       "    <tr>\n",
       "      <th>306</th>\n",
       "      <td>iro0jk</td>\n",
       "      <td>2020-09-12 19:16:51</td>\n",
       "      <td>Movies about suicide; and/or a deep hallowing ...</td>\n",
       "      <td>I’m looking for a movie in which the main char...</td>\n",
       "      <td>[tt1571249, tt5247022, tt0282698, tt0363589, t...</td>\n",
       "    </tr>\n",
       "    <tr>\n",
       "      <th>307</th>\n",
       "      <td>irnvy8</td>\n",
       "      <td>2020-09-12 19:09:27</td>\n",
       "      <td>Cyberpunk/Synthwave/Thriller movies that are n...</td>\n",
       "      <td>Well I really liked Upgrade/Blade Runner 2049,...</td>\n",
       "      <td>[tt1343727, tt1386703, tt3672742, tt0800369, t...</td>\n",
       "    </tr>\n",
       "    <tr>\n",
       "      <th>308</th>\n",
       "      <td>irnlz8</td>\n",
       "      <td>2020-09-12 18:53:07</td>\n",
       "      <td>Hi, I'm looking for hard sci fi movies</td>\n",
       "      <td>Anything that has to do with space and first e...</td>\n",
       "      <td>[tt0094737, tt0075860, tt0436364, tt0183523, t...</td>\n",
       "    </tr>\n",
       "    <tr>\n",
       "      <th>309</th>\n",
       "      <td>irnjl4</td>\n",
       "      <td>2020-09-12 18:48:53</td>\n",
       "      <td>Similar to \"The Big Wedding\" - Also suggesting...</td>\n",
       "      <td>Love the \"dark\" humor in this one. I know it's...</td>\n",
       "      <td>[tt1007028]</td>\n",
       "    </tr>\n",
       "  </tbody>\n",
       "</table>\n",
       "<p>310 rows × 5 columns</p>\n",
       "</div>"
      ],
      "text/plain": [
       "         id          created_utc  \\\n",
       "0    ixcr5j  2020-09-21 19:17:15   \n",
       "1    ixbv9u  2020-09-21 18:24:28   \n",
       "2    ixbsb4  2020-09-21 18:19:43   \n",
       "3    ixbj02  2020-09-21 18:04:06   \n",
       "4    ixamkm  2020-09-21 17:12:36   \n",
       "..      ...                  ...   \n",
       "305  iroswy  2020-09-12 20:05:26   \n",
       "306  iro0jk  2020-09-12 19:16:51   \n",
       "307  irnvy8  2020-09-12 19:09:27   \n",
       "308  irnlz8  2020-09-12 18:53:07   \n",
       "309  irnjl4  2020-09-12 18:48:53   \n",
       "\n",
       "                                                 title  \\\n",
       "0                                Movies from the '70s.   \n",
       "1           Style similar to Cinemania or Grey Gardens   \n",
       "2    Movie about people that suffer from avoidant p...   \n",
       "3    Looking for movies with deep conversations in ...   \n",
       "4       Looking For Time Loop Movies. Any Suggestions?   \n",
       "..                                                 ...   \n",
       "305                           Futuristic Sci-Fi movies   \n",
       "306  Movies about suicide; and/or a deep hallowing ...   \n",
       "307  Cyberpunk/Synthwave/Thriller movies that are n...   \n",
       "308             Hi, I'm looking for hard sci fi movies   \n",
       "309  Similar to \"The Big Wedding\" - Also suggesting...   \n",
       "\n",
       "                                              selftext  \\\n",
       "0    I'm in search of movies from the '70s.  Non-En...   \n",
       "1    I really liked how both of these documentaries...   \n",
       "2     \\nI dont know if theres any but basically Im ...   \n",
       "3    Like the beginning of Predestination for insta...   \n",
       "4    Saw Happy Death Day 2 U, Blood Punch, Before I...   \n",
       "..                                                 ...   \n",
       "305  I’m really into movies that take place in the ...   \n",
       "306  I’m looking for a movie in which the main char...   \n",
       "307  Well I really liked Upgrade/Blade Runner 2049,...   \n",
       "308  Anything that has to do with space and first e...   \n",
       "309  Love the \"dark\" humor in this one. I know it's...   \n",
       "\n",
       "                                           suggestions  \n",
       "0    [tt0120655, tt0069467, tt0069704, tt0450345, t...  \n",
       "1                                                   []  \n",
       "2                                                   []  \n",
       "3                                                   []  \n",
       "4                                                   []  \n",
       "..                                                 ...  \n",
       "305  [tt0120201, tt0238380, tt0083658, tt0816692, t...  \n",
       "306  [tt1571249, tt5247022, tt0282698, tt0363589, t...  \n",
       "307  [tt1343727, tt1386703, tt3672742, tt0800369, t...  \n",
       "308  [tt0094737, tt0075860, tt0436364, tt0183523, t...  \n",
       "309                                        [tt1007028]  \n",
       "\n",
       "[310 rows x 5 columns]"
      ]
     },
     "execution_count": 272,
     "metadata": {},
     "output_type": "execute_result"
    }
   ],
   "source": [
    "requests_with_suggestions"
   ]
  },
  {
   "cell_type": "code",
   "execution_count": 274,
   "metadata": {},
   "outputs": [],
   "source": [
    "requests_with_suggestions['suggestions'] = requests_with_suggestions['suggestions'].apply(list_to_string)"
   ]
  },
  {
   "cell_type": "code",
   "execution_count": 275,
   "metadata": {},
   "outputs": [
    {
     "data": {
      "text/plain": [
       "0      tt0120655%tt0069467%tt0069704%tt0450345%tt0066...\n",
       "1                                                    NaN\n",
       "2                                                    NaN\n",
       "3                                                    NaN\n",
       "4                                                    NaN\n",
       "                             ...                        \n",
       "305    tt0120201%tt0238380%tt0083658%tt0816692%tt3659...\n",
       "306    tt1571249%tt5247022%tt0282698%tt0363589%tt4034...\n",
       "307    tt1343727%tt1386703%tt3672742%tt0800369%tt6998...\n",
       "308    tt0094737%tt0075860%tt0436364%tt0183523%tt2798...\n",
       "309                                            tt1007028\n",
       "Name: suggestions, Length: 310, dtype: object"
      ]
     },
     "execution_count": 275,
     "metadata": {},
     "output_type": "execute_result"
    }
   ],
   "source": [
    "requests_with_suggestions['suggestions']"
   ]
  },
  {
   "cell_type": "code",
   "execution_count": 285,
   "metadata": {},
   "outputs": [
    {
     "name": "stdout",
     "output_type": "stream",
     "text": [
      "<class 'pandas.core.frame.DataFrame'>\n",
      "Int64Index: 279 entries, 0 to 309\n",
      "Data columns (total 5 columns):\n",
      " #   Column       Non-Null Count  Dtype \n",
      "---  ------       --------------  ----- \n",
      " 0   id           279 non-null    object\n",
      " 1   created_utc  279 non-null    object\n",
      " 2   title        279 non-null    object\n",
      " 3   selftext     279 non-null    object\n",
      " 4   suggestions  279 non-null    object\n",
      "dtypes: object(5)\n",
      "memory usage: 13.1+ KB\n"
     ]
    }
   ],
   "source": [
    "requests_with_suggestions.info()"
   ]
  },
  {
   "cell_type": "code",
   "execution_count": 280,
   "metadata": {},
   "outputs": [],
   "source": [
    "#Some posts don't have self-text. This is OK, but need to not have nan\n",
    "requests_with_suggestions.where(requests_with_suggestions['selftext'].notna(), ' ', inplace = True)"
   ]
  },
  {
   "cell_type": "code",
   "execution_count": 284,
   "metadata": {},
   "outputs": [],
   "source": [
    "#Drop all rows without suggestions\n",
    "requests_with_suggestions.dropna(inplace=True)"
   ]
  },
  {
   "cell_type": "code",
   "execution_count": 286,
   "metadata": {},
   "outputs": [],
   "source": [
    "requests_with_suggestions.to_csv('./movies_data/requests_with_suggestions.csv', index = False)"
   ]
  },
  {
   "cell_type": "code",
   "execution_count": 292,
   "metadata": {},
   "outputs": [
    {
     "data": {
      "text/html": [
       "<div>\n",
       "<style scoped>\n",
       "    .dataframe tbody tr th:only-of-type {\n",
       "        vertical-align: middle;\n",
       "    }\n",
       "\n",
       "    .dataframe tbody tr th {\n",
       "        vertical-align: top;\n",
       "    }\n",
       "\n",
       "    .dataframe thead th {\n",
       "        text-align: right;\n",
       "    }\n",
       "</style>\n",
       "<table border=\"1\" class=\"dataframe\">\n",
       "  <thead>\n",
       "    <tr style=\"text-align: right;\">\n",
       "      <th></th>\n",
       "      <th>id</th>\n",
       "      <th>titles</th>\n",
       "      <th>year</th>\n",
       "      <th>rating</th>\n",
       "    </tr>\n",
       "  </thead>\n",
       "  <tbody>\n",
       "    <tr>\n",
       "      <th>1446</th>\n",
       "      <td>tt0071853</td>\n",
       "      <td>Monty Python and the Holy Grail</td>\n",
       "      <td>1975</td>\n",
       "      <td>8.2</td>\n",
       "    </tr>\n",
       "  </tbody>\n",
       "</table>\n",
       "</div>"
      ],
      "text/plain": [
       "             id                           titles  year  rating\n",
       "1446  tt0071853  Monty Python and the Holy Grail  1975     8.2"
      ]
     },
     "execution_count": 292,
     "metadata": {},
     "output_type": "execute_result"
    }
   ],
   "source": [
    "movies[movies['id'] == 'tt0071853']"
   ]
  },
  {
   "cell_type": "code",
   "execution_count": null,
   "metadata": {},
   "outputs": [],
   "source": []
  }
 ],
 "metadata": {
  "kernelspec": {
   "display_name": "Python [conda env:dsi] *",
   "language": "python",
   "name": "conda-env-dsi-py"
  },
  "language_info": {
   "codemirror_mode": {
    "name": "ipython",
    "version": 3
   },
   "file_extension": ".py",
   "mimetype": "text/x-python",
   "name": "python",
   "nbconvert_exporter": "python",
   "pygments_lexer": "ipython3",
   "version": "3.7.7"
  }
 },
 "nbformat": 4,
 "nbformat_minor": 4
}
