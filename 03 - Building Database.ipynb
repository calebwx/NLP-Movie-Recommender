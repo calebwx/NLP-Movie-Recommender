{
 "cells": [
  {
   "cell_type": "code",
   "execution_count": 1,
   "metadata": {},
   "outputs": [],
   "source": [
    "import numpy as np\n",
    "import pandas as pd\n",
    "import matplotlib.pyplot as plt\n",
    "import seaborn as sns\n",
    "import re\n",
    "\n",
    "import spacy\n",
    "from spacy.pipeline import EntityRuler\n",
    "from spacy.matcher import PhraseMatcher"
   ]
  },
  {
   "cell_type": "code",
   "execution_count": 2,
   "metadata": {},
   "outputs": [],
   "source": [
    "#This function uses regular expressions to do three things:\n",
    "#    1. replace URLs starting with https:// (like the links posted in many suggestions) with a space\n",
    "#    2. replace non-necessary charcaters with spaces. These are more often used for post formatting than titles, but can get in the way of detecting titles\n",
    "#    3. remove apostrohpes - do not replace with space. People are lazy with apostrophes and often forget them, or put them in the wrong places.\n",
    "\n",
    "def simplify_text(s):\n",
    "    return re.sub('[\\'\\\\u2019\\\\u0027]', '', re.sub('[^a-zA-Z0-9:;.,&$!?\\'\\\\u2019]', ' ', re.sub('https://[=?\\-_./\\w]+', ' ', s)))"
   ]
  },
  {
   "cell_type": "code",
   "execution_count": 3,
   "metadata": {},
   "outputs": [],
   "source": [
    "#This function takes a list of strings and makes them one string separated by '%' character\n",
    "#This is used to apply() to the suggested title ids column for easy splitting in other notebooks\n",
    "\n",
    "def list_to_string(s_list):\n",
    "    s_str = ''\n",
    "\n",
    "    for text in s_list:\n",
    "        s_str += text + \"%\"\n",
    "        \n",
    "    if len(s_str) == 0:\n",
    "        return np.nan\n",
    "    \n",
    "    return s_str[:-1]"
   ]
  },
  {
   "cell_type": "code",
   "execution_count": 4,
   "metadata": {},
   "outputs": [],
   "source": [
    "def get_matches(doc, debug = False):\n",
    "    m_list = []\n",
    "    to_remove = []\n",
    "    \n",
    "    matches = matcher(doc)\n",
    "    \n",
    "    if debug:\n",
    "        print(doc.text)\n",
    "\n",
    "    for i, match in enumerate(matches):\n",
    "        m_start = match[1]\n",
    "        m_end = match[2]\n",
    "        m_list.append((m_start, m_end))\n",
    "        \n",
    "        if debug:\n",
    "            print(match)\n",
    "            print(doc[m_start : m_end], end = ' ')\n",
    "            \n",
    "        #This code block removes false positives of movie titles that appear within other movie titles\n",
    "        #For example, \"The Mask\" would appear in \"Son of The Mask\" but the latter would be the true recommendation\n",
    "\n",
    "        if(len(m_list) > 1):\n",
    "            if m_list[-1][0] >= m_list[-2][0] and m_list[-1][0] <= m_list[-2][1]:\n",
    "                if abs(m_list[-1][1] - m_list[-1][0]) > abs(m_list[-2][1]-m_list[-2][0]):\n",
    "                    if debug:\n",
    "                        print(\"REMOVE ABOVE\", end ='')\n",
    "                    to_remove.append(i-1)\n",
    "                else:\n",
    "                    if debug:\n",
    "                        print(\"REMOVE THIS\", end = '')\n",
    "                    to_remove.append(i)\n",
    "\n",
    "        if debug:\n",
    "            print('')\n",
    "\n",
    "    #starting at the last index, remove each item in to_remove from matches\n",
    "    for i in to_remove[::-1]:\n",
    "        matches.pop(i)\n",
    "\n",
    "    return matches"
   ]
  },
  {
   "cell_type": "markdown",
   "metadata": {},
   "source": [
    "---"
   ]
  },
  {
   "cell_type": "code",
   "execution_count": 5,
   "metadata": {},
   "outputs": [
    {
     "data": {
      "text/plain": [
       "('ner', <spacy.pipeline.pipes.EntityRecognizer at 0x1bb5ba51768>)"
      ]
     },
     "execution_count": 5,
     "metadata": {},
     "output_type": "execute_result"
    }
   ],
   "source": [
    "nlp = spacy.load('en_core_web_lg')\n",
    "nlp.remove_pipe('ner')"
   ]
  },
  {
   "cell_type": "code",
   "execution_count": 6,
   "metadata": {},
   "outputs": [],
   "source": [
    "movies = pd.read_csv('./movies_data/movies.csv')\n",
    "requests = pd.read_csv('./movies_data/slow_df.csv')\n",
    "comments = pd.read_csv('./movies_data/slow_comments.csv')"
   ]
  },
  {
   "cell_type": "code",
   "execution_count": null,
   "metadata": {},
   "outputs": [],
   "source": [
    "requests.head()"
   ]
  },
  {
   "cell_type": "code",
   "execution_count": null,
   "metadata": {},
   "outputs": [],
   "source": [
    "comments.head()"
   ]
  },
  {
   "cell_type": "markdown",
   "metadata": {},
   "source": [
    "# Movies Dataframe and Dictionaries"
   ]
  },
  {
   "cell_type": "code",
   "execution_count": 9,
   "metadata": {
    "collapsed": true,
    "jupyter": {
     "outputs_hidden": true
    }
   },
   "outputs": [
    {
     "data": {
      "text/html": [
       "<div>\n",
       "<style scoped>\n",
       "    .dataframe tbody tr th:only-of-type {\n",
       "        vertical-align: middle;\n",
       "    }\n",
       "\n",
       "    .dataframe tbody tr th {\n",
       "        vertical-align: top;\n",
       "    }\n",
       "\n",
       "    .dataframe thead th {\n",
       "        text-align: right;\n",
       "    }\n",
       "</style>\n",
       "<table border=\"1\" class=\"dataframe\">\n",
       "  <thead>\n",
       "    <tr style=\"text-align: right;\">\n",
       "      <th></th>\n",
       "      <th>id</th>\n",
       "      <th>titles</th>\n",
       "      <th>primary_title</th>\n",
       "      <th>year</th>\n",
       "      <th>rating</th>\n",
       "      <th>num_votes</th>\n",
       "    </tr>\n",
       "  </thead>\n",
       "  <tbody>\n",
       "    <tr>\n",
       "      <th>0</th>\n",
       "      <td>tt0004972</td>\n",
       "      <td>The Birth of the Nation; Or The Clansman%In th...</td>\n",
       "      <td>The Birth of a Nation</td>\n",
       "      <td>1915</td>\n",
       "      <td>6.3</td>\n",
       "      <td>22280</td>\n",
       "    </tr>\n",
       "    <tr>\n",
       "      <th>1</th>\n",
       "      <td>tt0006864</td>\n",
       "      <td>Intolerance: Love's Struggle Throughout the Ag...</td>\n",
       "      <td>Intolerance: Love's Struggle Throughout the Ages</td>\n",
       "      <td>1916</td>\n",
       "      <td>7.7</td>\n",
       "      <td>13915</td>\n",
       "    </tr>\n",
       "    <tr>\n",
       "      <th>2</th>\n",
       "      <td>tt0009611</td>\n",
       "      <td>Shoulder Arms</td>\n",
       "      <td>Shoulder Arms</td>\n",
       "      <td>1918</td>\n",
       "      <td>7.3</td>\n",
       "      <td>5922</td>\n",
       "    </tr>\n",
       "    <tr>\n",
       "      <th>3</th>\n",
       "      <td>tt0009968</td>\n",
       "      <td>Broken Blossoms or The Yellow Man and the Girl...</td>\n",
       "      <td>Broken Blossoms</td>\n",
       "      <td>1919</td>\n",
       "      <td>7.3</td>\n",
       "      <td>9263</td>\n",
       "    </tr>\n",
       "    <tr>\n",
       "      <th>4</th>\n",
       "      <td>tt0010323</td>\n",
       "      <td>Das Cabinet des Dr. Caligari%The Cabinet of Dr...</td>\n",
       "      <td>The Cabinet of Dr. Caligari</td>\n",
       "      <td>1920</td>\n",
       "      <td>8.1</td>\n",
       "      <td>55789</td>\n",
       "    </tr>\n",
       "    <tr>\n",
       "      <th>...</th>\n",
       "      <td>...</td>\n",
       "      <td>...</td>\n",
       "      <td>...</td>\n",
       "      <td>...</td>\n",
       "      <td>...</td>\n",
       "      <td>...</td>\n",
       "    </tr>\n",
       "    <tr>\n",
       "      <th>11850</th>\n",
       "      <td>tt9817070</td>\n",
       "      <td>Just 6.5%Metri Shesh Va Nim</td>\n",
       "      <td>Just 6.5</td>\n",
       "      <td>2019</td>\n",
       "      <td>7.9</td>\n",
       "      <td>5787</td>\n",
       "    </tr>\n",
       "    <tr>\n",
       "      <th>11851</th>\n",
       "      <td>tt9860728</td>\n",
       "      <td>Falling Inn Love</td>\n",
       "      <td>Falling Inn Love</td>\n",
       "      <td>2019</td>\n",
       "      <td>5.6</td>\n",
       "      <td>14273</td>\n",
       "    </tr>\n",
       "    <tr>\n",
       "      <th>11852</th>\n",
       "      <td>tt9877170</td>\n",
       "      <td>Malang%Malang - Unleash the Madness</td>\n",
       "      <td>Malang</td>\n",
       "      <td>2020</td>\n",
       "      <td>6.5</td>\n",
       "      <td>7204</td>\n",
       "    </tr>\n",
       "    <tr>\n",
       "      <th>11853</th>\n",
       "      <td>tt9898858</td>\n",
       "      <td>Coffee &amp; Kareem</td>\n",
       "      <td>Coffee &amp; Kareem</td>\n",
       "      <td>2020</td>\n",
       "      <td>5.1</td>\n",
       "      <td>10743</td>\n",
       "    </tr>\n",
       "    <tr>\n",
       "      <th>11854</th>\n",
       "      <td>tt9900782</td>\n",
       "      <td>Kaithi</td>\n",
       "      <td>Kaithi</td>\n",
       "      <td>2019</td>\n",
       "      <td>8.5</td>\n",
       "      <td>8542</td>\n",
       "    </tr>\n",
       "  </tbody>\n",
       "</table>\n",
       "<p>11855 rows × 6 columns</p>\n",
       "</div>"
      ],
      "text/plain": [
       "              id                                             titles  \\\n",
       "0      tt0004972  The Birth of the Nation; Or The Clansman%In th...   \n",
       "1      tt0006864  Intolerance: Love's Struggle Throughout the Ag...   \n",
       "2      tt0009611                                      Shoulder Arms   \n",
       "3      tt0009968  Broken Blossoms or The Yellow Man and the Girl...   \n",
       "4      tt0010323  Das Cabinet des Dr. Caligari%The Cabinet of Dr...   \n",
       "...          ...                                                ...   \n",
       "11850  tt9817070                        Just 6.5%Metri Shesh Va Nim   \n",
       "11851  tt9860728                                   Falling Inn Love   \n",
       "11852  tt9877170                Malang%Malang - Unleash the Madness   \n",
       "11853  tt9898858                                    Coffee & Kareem   \n",
       "11854  tt9900782                                             Kaithi   \n",
       "\n",
       "                                          primary_title  year  rating  \\\n",
       "0                                 The Birth of a Nation  1915     6.3   \n",
       "1      Intolerance: Love's Struggle Throughout the Ages  1916     7.7   \n",
       "2                                         Shoulder Arms  1918     7.3   \n",
       "3                                       Broken Blossoms  1919     7.3   \n",
       "4                           The Cabinet of Dr. Caligari  1920     8.1   \n",
       "...                                                 ...   ...     ...   \n",
       "11850                                          Just 6.5  2019     7.9   \n",
       "11851                                  Falling Inn Love  2019     5.6   \n",
       "11852                                            Malang  2020     6.5   \n",
       "11853                                   Coffee & Kareem  2020     5.1   \n",
       "11854                                            Kaithi  2019     8.5   \n",
       "\n",
       "       num_votes  \n",
       "0          22280  \n",
       "1          13915  \n",
       "2           5922  \n",
       "3           9263  \n",
       "4          55789  \n",
       "...          ...  \n",
       "11850       5787  \n",
       "11851      14273  \n",
       "11852       7204  \n",
       "11853      10743  \n",
       "11854       8542  \n",
       "\n",
       "[11855 rows x 6 columns]"
      ]
     },
     "execution_count": 9,
     "metadata": {},
     "output_type": "execute_result"
    }
   ],
   "source": [
    "movies"
   ]
  },
  {
   "cell_type": "code",
   "execution_count": 7,
   "metadata": {},
   "outputs": [],
   "source": [
    "titles_list = []\n",
    "titles_lower = []\n",
    "ids_list = []\n",
    "\n",
    "for i, titles in enumerate(list(movies['titles'])):\n",
    "    split_titles = titles.split('%')\n",
    "    titles_list += split_titles\n",
    "    \n",
    "    for _ in range(len(split_titles)):\n",
    "        ids_list.append(movies['id'][i])\n",
    "    \n",
    "for title in titles_list:\n",
    "    titles_lower.append(simplify_text(title).lower())"
   ]
  },
  {
   "cell_type": "markdown",
   "metadata": {},
   "source": [
    "For now, the system will return only the most recent movie when multiple movies share the same name. Further down the road, one goal may be to identify different movies with the same name (when possible) such as '101 Dalmations' 1961 or 1996. When comments include the year this will be possible, though it may not be easy. However, I will prepare the dictionaries with title years now for use later."
   ]
  },
  {
   "cell_type": "code",
   "execution_count": 8,
   "metadata": {},
   "outputs": [],
   "source": [
    "# https://www.geeksforgeeks.org/python-convert-two-lists-into-a-dictionary/\n",
    "name_dict = {titles_lower[i] : ids_list[i] for i in range(len(titles_lower))}\n",
    "title_dict = {ids_list[i] : titles_list[i] for i in range(len(titles_lower))}\n",
    "\n",
    "name_dict_with_dups = {}\n",
    "\n",
    "for i in range(len(titles_lower)-1, -1, -1):\n",
    "    # https://stackoverflow.com/a/18552025\n",
    "    if titles_lower[i] in list(name_dict_with_dups):\n",
    "        name_dict_with_dups[titles_lower[i] + ' ' + str(movies[movies['id'] == ids_list[i]]['year'].values[0])] = ids_list[i]\n",
    "    else:\n",
    "        name_dict_with_dups[titles_lower[i]] = ids_list[i]\n",
    "        \n",
    "\n",
    "name_dict_dups_only = {i : name_dict_with_dups[i] for i in list(name_dict_with_dups) if i not in list(name_dict)}"
   ]
  },
  {
   "cell_type": "code",
   "execution_count": null,
   "metadata": {},
   "outputs": [],
   "source": []
  },
  {
   "cell_type": "markdown",
   "metadata": {},
   "source": [
    "# ----"
   ]
  },
  {
   "cell_type": "code",
   "execution_count": 9,
   "metadata": {},
   "outputs": [],
   "source": [
    "patterns = [nlp.make_doc(text) for text in titles_lower]\n",
    "\n",
    "matcher = PhraseMatcher(nlp.vocab)\n",
    "matcher.add(\"MovieTitles\", None, *patterns)"
   ]
  },
  {
   "cell_type": "code",
   "execution_count": 10,
   "metadata": {},
   "outputs": [],
   "source": [
    "#Only get top-level comments: those comments whose \"parent\" is the submission, not another comment\n",
    "comments = comments[comments['parent_id'] == comments['link_id']]\n",
    "comments.reset_index(inplace=True)"
   ]
  },
  {
   "cell_type": "code",
   "execution_count": 11,
   "metadata": {},
   "outputs": [],
   "source": [
    "comments_simple = comments.copy()\n",
    "comments_simple['body'] = comments_simple['body'].apply(simplify_text)"
   ]
  },
  {
   "cell_type": "markdown",
   "metadata": {},
   "source": [
    "\n",
    "---"
   ]
  },
  {
   "cell_type": "code",
   "execution_count": 12,
   "metadata": {},
   "outputs": [],
   "source": [
    "# There is a bot that compiles reccomendations. That could be very useful for me! But for now, I need to ignore it. Later, I can compare what movies I found to what the bot found.\n",
    "# author = 'cinephilebot'\n",
    "flag = '   Replying after taking permission from mod'\n",
    "\n",
    "ignore_list = []\n",
    "\n",
    "for i, comment in enumerate(comments_simple['body']):\n",
    "    if flag == comment[:len(flag)]:\n",
    "        ignore_list.append(i)"
   ]
  },
  {
   "cell_type": "markdown",
   "metadata": {},
   "source": [
    "matched_title = com1[matches[0][1] : matches[0][2]]\n",
    "\n",
    "movies[movies.id == name_dict[matched_title.text]]"
   ]
  },
  {
   "cell_type": "code",
   "execution_count": 13,
   "metadata": {},
   "outputs": [],
   "source": [
    "# A little more cleaning to get ready to make the new dataframe: requests + suggestions\n",
    "\n",
    "#Drop any comments by the requester\n",
    "comments_simple = comments_simple[comments_simple['is_submitter'] == False]\n",
    "\n",
    "#format the links for comparison to requests\n",
    "comments_simple['link_id'] = comments_simple['link_id'].str[3:]\n",
    "\n",
    "comments_simple = comments_simple[['author', 'score', 'body', 'link_id', 'is_submitter']]\n",
    "\n",
    "#Drop the rows that are not flaired as requests\n",
    "requests = requests[requests['link_flair_css_class'] == 'request']\n",
    "\n",
    "requests = requests[['id', 'created_utc', 'title', 'selftext']]"
   ]
  },
  {
   "cell_type": "code",
   "execution_count": 14,
   "metadata": {},
   "outputs": [
    {
     "data": {
      "text/html": [
       "<div>\n",
       "<style scoped>\n",
       "    .dataframe tbody tr th:only-of-type {\n",
       "        vertical-align: middle;\n",
       "    }\n",
       "\n",
       "    .dataframe tbody tr th {\n",
       "        vertical-align: top;\n",
       "    }\n",
       "\n",
       "    .dataframe thead th {\n",
       "        text-align: right;\n",
       "    }\n",
       "</style>\n",
       "<table border=\"1\" class=\"dataframe\">\n",
       "  <thead>\n",
       "    <tr style=\"text-align: right;\">\n",
       "      <th></th>\n",
       "      <th>title</th>\n",
       "      <th>selftext</th>\n",
       "      <th>movie_ids</th>\n",
       "    </tr>\n",
       "  </thead>\n",
       "  <tbody>\n",
       "  </tbody>\n",
       "</table>\n",
       "</div>"
      ],
      "text/plain": [
       "Empty DataFrame\n",
       "Columns: [title, selftext, movie_ids]\n",
       "Index: []"
      ]
     },
     "execution_count": 14,
     "metadata": {},
     "output_type": "execute_result"
    }
   ],
   "source": [
    "suggestions = pd.DataFrame(columns = ['title', 'selftext', 'movie_ids'])\n",
    "suggestions"
   ]
  },
  {
   "cell_type": "code",
   "execution_count": 15,
   "metadata": {},
   "outputs": [
    {
     "data": {
      "text/html": [
       "<div>\n",
       "<style scoped>\n",
       "    .dataframe tbody tr th:only-of-type {\n",
       "        vertical-align: middle;\n",
       "    }\n",
       "\n",
       "    .dataframe tbody tr th {\n",
       "        vertical-align: top;\n",
       "    }\n",
       "\n",
       "    .dataframe thead th {\n",
       "        text-align: right;\n",
       "    }\n",
       "</style>\n",
       "<table border=\"1\" class=\"dataframe\">\n",
       "  <thead>\n",
       "    <tr style=\"text-align: right;\">\n",
       "      <th></th>\n",
       "      <th>author</th>\n",
       "      <th>score</th>\n",
       "      <th>body</th>\n",
       "      <th>link_id</th>\n",
       "      <th>is_submitter</th>\n",
       "    </tr>\n",
       "  </thead>\n",
       "  <tbody>\n",
       "    <tr>\n",
       "      <th>0</th>\n",
       "      <td>ImAK93</td>\n",
       "      <td>1</td>\n",
       "      <td>I See You  2019</td>\n",
       "      <td>iyq8s5</td>\n",
       "      <td>False</td>\n",
       "    </tr>\n",
       "    <tr>\n",
       "      <th>1</th>\n",
       "      <td>MatiasMus</td>\n",
       "      <td>1</td>\n",
       "      <td>Hopefully youve already seen this, but Coming ...</td>\n",
       "      <td>iyyt03</td>\n",
       "      <td>False</td>\n",
       "    </tr>\n",
       "    <tr>\n",
       "      <th>2</th>\n",
       "      <td>bookslove79</td>\n",
       "      <td>1</td>\n",
       "      <td>Sorry!! I couldnt read the whole replies  But ...</td>\n",
       "      <td>iyscw5</td>\n",
       "      <td>False</td>\n",
       "    </tr>\n",
       "    <tr>\n",
       "      <th>3</th>\n",
       "      <td>sassytrainwreck</td>\n",
       "      <td>1</td>\n",
       "      <td>Under the Tuscan Sun is one of my faves.</td>\n",
       "      <td>iyx448</td>\n",
       "      <td>False</td>\n",
       "    </tr>\n",
       "    <tr>\n",
       "      <th>4</th>\n",
       "      <td>Truthisnotallowed</td>\n",
       "      <td>1</td>\n",
       "      <td>Crime comedies:   Topkapi  1964        That Ma...</td>\n",
       "      <td>iyz3e7</td>\n",
       "      <td>False</td>\n",
       "    </tr>\n",
       "    <tr>\n",
       "      <th>...</th>\n",
       "      <td>...</td>\n",
       "      <td>...</td>\n",
       "      <td>...</td>\n",
       "      <td>...</td>\n",
       "      <td>...</td>\n",
       "    </tr>\n",
       "    <tr>\n",
       "      <th>93485</th>\n",
       "      <td>scabcoat</td>\n",
       "      <td>1</td>\n",
       "      <td>500 Days of Summer   When We First Met   For...</td>\n",
       "      <td>cb4lsu</td>\n",
       "      <td>False</td>\n",
       "    </tr>\n",
       "    <tr>\n",
       "      <th>93486</th>\n",
       "      <td>jupiterkansas</td>\n",
       "      <td>1</td>\n",
       "      <td>The Remains of the Day</td>\n",
       "      <td>cb4lsu</td>\n",
       "      <td>False</td>\n",
       "    </tr>\n",
       "    <tr>\n",
       "      <th>93487</th>\n",
       "      <td>nsharer84</td>\n",
       "      <td>1</td>\n",
       "      <td>Spanglish.   God I loved that movie.</td>\n",
       "      <td>cb4lsu</td>\n",
       "      <td>False</td>\n",
       "    </tr>\n",
       "    <tr>\n",
       "      <th>93488</th>\n",
       "      <td>ewieranga</td>\n",
       "      <td>1</td>\n",
       "      <td>Evolution  2018  or Idiocracy  2006</td>\n",
       "      <td>cb49fc</td>\n",
       "      <td>False</td>\n",
       "    </tr>\n",
       "    <tr>\n",
       "      <th>93489</th>\n",
       "      <td>stoffercb</td>\n",
       "      <td>1</td>\n",
       "      <td>Annie Hall, and also basically every Woody All...</td>\n",
       "      <td>cb4lsu</td>\n",
       "      <td>False</td>\n",
       "    </tr>\n",
       "  </tbody>\n",
       "</table>\n",
       "<p>93208 rows × 5 columns</p>\n",
       "</div>"
      ],
      "text/plain": [
       "                  author  score  \\\n",
       "0                 ImAK93      1   \n",
       "1              MatiasMus      1   \n",
       "2            bookslove79      1   \n",
       "3        sassytrainwreck      1   \n",
       "4      Truthisnotallowed      1   \n",
       "...                  ...    ...   \n",
       "93485           scabcoat      1   \n",
       "93486      jupiterkansas      1   \n",
       "93487          nsharer84      1   \n",
       "93488          ewieranga      1   \n",
       "93489          stoffercb      1   \n",
       "\n",
       "                                                    body link_id  is_submitter  \n",
       "0                                       I See You  2019   iyq8s5         False  \n",
       "1      Hopefully youve already seen this, but Coming ...  iyyt03         False  \n",
       "2      Sorry!! I couldnt read the whole replies  But ...  iyscw5         False  \n",
       "3               Under the Tuscan Sun is one of my faves.  iyx448         False  \n",
       "4      Crime comedies:   Topkapi  1964        That Ma...  iyz3e7         False  \n",
       "...                                                  ...     ...           ...  \n",
       "93485    500 Days of Summer   When We First Met   For...  cb4lsu         False  \n",
       "93486                             The Remains of the Day  cb4lsu         False  \n",
       "93487               Spanglish.   God I loved that movie.  cb4lsu         False  \n",
       "93488               Evolution  2018  or Idiocracy  2006   cb49fc         False  \n",
       "93489  Annie Hall, and also basically every Woody All...  cb4lsu         False  \n",
       "\n",
       "[93208 rows x 5 columns]"
      ]
     },
     "execution_count": 15,
     "metadata": {},
     "output_type": "execute_result"
    }
   ],
   "source": [
    "comments_simple"
   ]
  },
  {
   "cell_type": "code",
   "execution_count": 428,
   "metadata": {},
   "outputs": [
    {
     "name": "stdout",
     "output_type": "stream",
     "text": [
      "4%   9%   14%   19%   24%   29%   34%   39%   44%   49%   54%   59%   64%   69%   74%   79%   84%   89%   94%   "
     ]
    }
   ],
   "source": [
    "#Create a dictionary with keys = request posts, and values = list of suggestions by commenters\n",
    "\n",
    "#POSSIBLE CHANGES:\n",
    "#   1. make a list of tuples instead of strings, each tuple containing a suggested title_ID and post score - to find quality suggestions or rank suggestions\n",
    "#   2. narrow down the comments by only taking the top X, or using a higher value on the score filter\n",
    "\n",
    "sugg_dict = {link_id : [] for link_id in requests['id']}\n",
    "sugg_scores_dict = {link_id : [] for link_id in requests['id']}\n",
    "\n",
    "counter = 0\n",
    "total_len = comments_simple.shape[0]\n",
    "\n",
    "for i in comments_simple.index:\n",
    "    row = comments_simple[comments_simple.index == i]\n",
    "    if (row['score'].values[0] <= 0 ) or (i in ignore_list):\n",
    "        continue\n",
    "    \n",
    "    body = nlp(row['body'].values[0].lower())\n",
    "    link_id = row['link_id'].values[0]\n",
    "    \n",
    "    matches = get_matches(body)\n",
    "    \n",
    "    for match in matches:\n",
    "        matched_title = body[match[1] : match[2]]\n",
    "        try:\n",
    "            sugg_dict[link_id].append(name_dict[matched_title.text])\n",
    "            sugg_scores_dict[link_id].append((name_dict[matched_title.text], row['score'].values[0]))\n",
    "        except:\n",
    "            #print(f\"Failed match: {matched_title.text}, comment index {i}\")\n",
    "            pass\n",
    "    \n",
    "    counter += 1\n",
    "    if counter % int(total_len/20) == 0:\n",
    "        print(f'{int(100 * counter/total_len)}%   ', end = '')"
   ]
  },
  {
   "cell_type": "code",
   "execution_count": 429,
   "metadata": {},
   "outputs": [
    {
     "name": "stdout",
     "output_type": "stream",
     "text": [
      "There are an average of 20.7 suggestions per request.\n",
      "There are an average of 16.7 unique suggestions per request.\n",
      "Overall, there were a total of 11329 requests and 188964 unique suggestions.\n",
      "\n",
      "Out of 11329 requests, 2643 (23.3%) had 0 suggestions (that were found).\n",
      "Of those requests that had > 0 suggestions, there were an average of 21.8 unique suggestions.\n",
      "\n",
      "The request with the most suggestions had 2682 suggestions, or 1.14% of the total, 947 of which were unique. (0.5% of total)\n"
     ]
    }
   ],
   "source": [
    "# Examining the results:\n",
    "\n",
    "count = 0\n",
    "zero_count = 0\n",
    "sugg_sum = 0\n",
    "uniq_sum = 0\n",
    "max_sugg = 0\n",
    "max_uniq = 0\n",
    "\n",
    "for i in sugg_dict:\n",
    "    count += 1\n",
    "    sugg_list = sugg_dict[i]\n",
    "    list_len = len(sugg_list)\n",
    "    uniq_len = len(set(sugg_list))\n",
    "    uniq_sum += uniq_len\n",
    "    sugg_sum += list_len\n",
    "    \n",
    "    if list_len == 0:\n",
    "        zero_count += 1\n",
    "        \n",
    "    if list_len > max_sugg:\n",
    "        max_sugg = list_len\n",
    "        max_uniq = uniq_len\n",
    "    \n",
    "print(f\"There are an average of {round(sugg_sum/count, 1)} suggestions per request.\")\n",
    "print(f\"There are an average of {round(uniq_sum/count, 1)} unique suggestions per request.\")\n",
    "print(f\"Overall, there were a total of {count} requests and {uniq_sum} unique suggestions.\\n\")\n",
    "print(f\"Out of {count} requests, {zero_count} ({np.round(100*zero_count/count,1)}%) had 0 suggestions (that were found).\")\n",
    "print(f\"Of those requests that had > 0 suggestions, there were an average of {round(uniq_sum/(count-zero_count), 1)} unique suggestions.\\n\")\n",
    "print(f\"The request with the most suggestions had {max_sugg} suggestions, or {round(100 * max_sugg/sugg_sum, 2)}% of the total, {max_uniq} of which were unique. ({round(100 * max_uniq / uniq_sum,2)}% of total)\")"
   ]
  },
  {
   "cell_type": "code",
   "execution_count": 432,
   "metadata": {},
   "outputs": [],
   "source": [
    "# cast the list to a set, and back to a list, to remove duplicate suggestions\n",
    "\n",
    "idx_list = []\n",
    "sugg_list_list = []\n",
    "\n",
    "for i in sugg_dict:\n",
    "    sugg_dict[i] = list(set(sugg_dict[i]))\n",
    "    idx_list.append(i)\n",
    "    sugg_list_list.append(sugg_dict[i])"
   ]
  },
  {
   "cell_type": "code",
   "execution_count": 433,
   "metadata": {},
   "outputs": [],
   "source": [
    "# Remove duplicates from sugg_scores_dict, keeping only the highest recorded score\n",
    "\n",
    "sugg_scores_nodup = {}\n",
    "\n",
    "for i in sugg_scores_dict:\n",
    "    tups = {}\n",
    "    \n",
    "    for tt_id, score in (sugg_scores_dict[i]):\n",
    "        if tt_id in tups:\n",
    "            if tups[tt_id] < score:\n",
    "                tups[tt_id] = score\n",
    "            else:\n",
    "                pass\n",
    "        else:\n",
    "            tups[tt_id] = score\n",
    "    \n",
    "    sugg_scores_nodup[i] = tups       "
   ]
  },
  {
   "cell_type": "code",
   "execution_count": 434,
   "metadata": {},
   "outputs": [
    {
     "data": {
      "text/html": [
       "<div>\n",
       "<style scoped>\n",
       "    .dataframe tbody tr th:only-of-type {\n",
       "        vertical-align: middle;\n",
       "    }\n",
       "\n",
       "    .dataframe tbody tr th {\n",
       "        vertical-align: top;\n",
       "    }\n",
       "\n",
       "    .dataframe thead th {\n",
       "        text-align: right;\n",
       "    }\n",
       "</style>\n",
       "<table border=\"1\" class=\"dataframe\">\n",
       "  <thead>\n",
       "    <tr style=\"text-align: right;\">\n",
       "      <th></th>\n",
       "      <th>author</th>\n",
       "      <th>score</th>\n",
       "      <th>body</th>\n",
       "      <th>link_id</th>\n",
       "      <th>is_submitter</th>\n",
       "    </tr>\n",
       "  </thead>\n",
       "  <tbody>\n",
       "    <tr>\n",
       "      <th>122</th>\n",
       "      <td>Nativeferment</td>\n",
       "      <td>1</td>\n",
       "      <td>One movie that stands out for composition is I...</td>\n",
       "      <td>ixgrvu</td>\n",
       "      <td>False</td>\n",
       "    </tr>\n",
       "    <tr>\n",
       "      <th>157</th>\n",
       "      <td>Jamezone</td>\n",
       "      <td>1</td>\n",
       "      <td>Speedracer</td>\n",
       "      <td>ixgrvu</td>\n",
       "      <td>False</td>\n",
       "    </tr>\n",
       "  </tbody>\n",
       "</table>\n",
       "</div>"
      ],
      "text/plain": [
       "            author  score                                               body  \\\n",
       "122  Nativeferment      1  One movie that stands out for composition is I...   \n",
       "157       Jamezone      1                                         Speedracer   \n",
       "\n",
       "    link_id  is_submitter  \n",
       "122  ixgrvu         False  \n",
       "157  ixgrvu         False  "
      ]
     },
     "execution_count": 434,
     "metadata": {},
     "output_type": "execute_result"
    }
   ],
   "source": [
    "post_id = requests[55:56]['id'].values[0]\n",
    "comments_simple[comments_simple['link_id'] == post_id]"
   ]
  },
  {
   "cell_type": "code",
   "execution_count": 435,
   "metadata": {},
   "outputs": [],
   "source": [
    "sugg_df = pd.DataFrame(columns= ['id', 'suggestions'])\n",
    "sugg_df['id'] = idx_list\n",
    "sugg_df['suggestions'] = sugg_list_list\n",
    "\n",
    "requests_with_suggestions = requests.merge(right = sugg_df, left_on = 'id', right_on = 'id')"
   ]
  },
  {
   "cell_type": "code",
   "execution_count": 436,
   "metadata": {},
   "outputs": [
    {
     "data": {
      "text/html": [
       "<div>\n",
       "<style scoped>\n",
       "    .dataframe tbody tr th:only-of-type {\n",
       "        vertical-align: middle;\n",
       "    }\n",
       "\n",
       "    .dataframe tbody tr th {\n",
       "        vertical-align: top;\n",
       "    }\n",
       "\n",
       "    .dataframe thead th {\n",
       "        text-align: right;\n",
       "    }\n",
       "</style>\n",
       "<table border=\"1\" class=\"dataframe\">\n",
       "  <thead>\n",
       "    <tr style=\"text-align: right;\">\n",
       "      <th></th>\n",
       "      <th>id</th>\n",
       "      <th>created_utc</th>\n",
       "      <th>title</th>\n",
       "      <th>selftext</th>\n",
       "      <th>suggestions</th>\n",
       "    </tr>\n",
       "  </thead>\n",
       "  <tbody>\n",
       "    <tr>\n",
       "      <th>0</th>\n",
       "      <td>iyzb2g</td>\n",
       "      <td>1600961198</td>\n",
       "      <td>Gay romantic film with an engaging plot.</td>\n",
       "      <td>Not asking for something very deep or slow pac...</td>\n",
       "      <td>[]</td>\n",
       "    </tr>\n",
       "    <tr>\n",
       "      <th>1</th>\n",
       "      <td>iyz81n</td>\n",
       "      <td>1600960931</td>\n",
       "      <td>FIRST TIME HAVING NETLIX!</td>\n",
       "      <td>Need to fill up My List!  I enjoy edge of your...</td>\n",
       "      <td>[tt1734493, tt4263482, tt0457430, tt4846232, t...</td>\n",
       "    </tr>\n",
       "    <tr>\n",
       "      <th>2</th>\n",
       "      <td>iyz3e7</td>\n",
       "      <td>1600960479</td>\n",
       "      <td>Movies where main characters are or become cri...</td>\n",
       "      <td>basically I want a fun movie to kill time with...</td>\n",
       "      <td>[tt0317248, tt0119396, tt0048021, tt0087803, t...</td>\n",
       "    </tr>\n",
       "    <tr>\n",
       "      <th>3</th>\n",
       "      <td>iyyt03</td>\n",
       "      <td>1600959529</td>\n",
       "      <td>Looking for movies which are fun and not too s...</td>\n",
       "      <td>Hey! I am looking for movie recommendations wh...</td>\n",
       "      <td>[tt0094898, tt2294449, tt1232829, tt1187043, t...</td>\n",
       "    </tr>\n",
       "    <tr>\n",
       "      <th>4</th>\n",
       "      <td>iyyjk1</td>\n",
       "      <td>1600958640</td>\n",
       "      <td>All sherlock holmes movies and tv shows</td>\n",
       "      <td>Looking for all the sherlock holmes movies and...</td>\n",
       "      <td>[tt0091223, tt0047573, tt0090357, tt0087803]</td>\n",
       "    </tr>\n",
       "  </tbody>\n",
       "</table>\n",
       "</div>"
      ],
      "text/plain": [
       "       id  created_utc                                              title  \\\n",
       "0  iyzb2g   1600961198           Gay romantic film with an engaging plot.   \n",
       "1  iyz81n   1600960931                          FIRST TIME HAVING NETLIX!   \n",
       "2  iyz3e7   1600960479  Movies where main characters are or become cri...   \n",
       "3  iyyt03   1600959529  Looking for movies which are fun and not too s...   \n",
       "4  iyyjk1   1600958640            All sherlock holmes movies and tv shows   \n",
       "\n",
       "                                            selftext  \\\n",
       "0  Not asking for something very deep or slow pac...   \n",
       "1  Need to fill up My List!  I enjoy edge of your...   \n",
       "2  basically I want a fun movie to kill time with...   \n",
       "3  Hey! I am looking for movie recommendations wh...   \n",
       "4  Looking for all the sherlock holmes movies and...   \n",
       "\n",
       "                                         suggestions  \n",
       "0                                                 []  \n",
       "1  [tt1734493, tt4263482, tt0457430, tt4846232, t...  \n",
       "2  [tt0317248, tt0119396, tt0048021, tt0087803, t...  \n",
       "3  [tt0094898, tt2294449, tt1232829, tt1187043, t...  \n",
       "4       [tt0091223, tt0047573, tt0090357, tt0087803]  "
      ]
     },
     "execution_count": 436,
     "metadata": {},
     "output_type": "execute_result"
    }
   ],
   "source": [
    "requests_with_suggestions.head()"
   ]
  },
  {
   "cell_type": "code",
   "execution_count": 437,
   "metadata": {},
   "outputs": [],
   "source": [
    "# create a 'scores' row that lists the scores for each suggestion, in the same order in which the suggestions themselves are stores\n",
    "\n",
    "scores_list = []\n",
    "\n",
    "x = 0\n",
    "\n",
    "sugg_col = requests_with_suggestions['suggestions']\n",
    "\n",
    "for row_id in requests_with_suggestions['id']:\n",
    "    score_str = ''\n",
    "    for sugg in sugg_col[x]:\n",
    "        score_str += str(sugg_scores_nodup[row_id][sugg]) + ','\n",
    "        \n",
    "    scores_list.append(score_str[:-1])\n",
    "    \n",
    "    x += 1\n",
    "    \n",
    "requests_with_suggestions['scores'] = scores_list"
   ]
  },
  {
   "cell_type": "code",
   "execution_count": 438,
   "metadata": {},
   "outputs": [
    {
     "data": {
      "text/html": [
       "<div>\n",
       "<style scoped>\n",
       "    .dataframe tbody tr th:only-of-type {\n",
       "        vertical-align: middle;\n",
       "    }\n",
       "\n",
       "    .dataframe tbody tr th {\n",
       "        vertical-align: top;\n",
       "    }\n",
       "\n",
       "    .dataframe thead th {\n",
       "        text-align: right;\n",
       "    }\n",
       "</style>\n",
       "<table border=\"1\" class=\"dataframe\">\n",
       "  <thead>\n",
       "    <tr style=\"text-align: right;\">\n",
       "      <th></th>\n",
       "      <th>id</th>\n",
       "      <th>created_utc</th>\n",
       "      <th>title</th>\n",
       "      <th>selftext</th>\n",
       "      <th>suggestions</th>\n",
       "      <th>scores</th>\n",
       "    </tr>\n",
       "  </thead>\n",
       "  <tbody>\n",
       "    <tr>\n",
       "      <th>0</th>\n",
       "      <td>iyzb2g</td>\n",
       "      <td>1600961198</td>\n",
       "      <td>Gay romantic film with an engaging plot.</td>\n",
       "      <td>Not asking for something very deep or slow pac...</td>\n",
       "      <td>[]</td>\n",
       "      <td></td>\n",
       "    </tr>\n",
       "    <tr>\n",
       "      <th>1</th>\n",
       "      <td>iyz81n</td>\n",
       "      <td>1600960931</td>\n",
       "      <td>FIRST TIME HAVING NETLIX!</td>\n",
       "      <td>Need to fill up My List!  I enjoy edge of your...</td>\n",
       "      <td>[tt1734493, tt4263482, tt0457430, tt4846232, t...</td>\n",
       "      <td>1,1,1,1,1,1,1,1,1,1,1,1,1</td>\n",
       "    </tr>\n",
       "    <tr>\n",
       "      <th>2</th>\n",
       "      <td>iyz3e7</td>\n",
       "      <td>1600960479</td>\n",
       "      <td>Movies where main characters are or become cri...</td>\n",
       "      <td>basically I want a fun movie to kill time with...</td>\n",
       "      <td>[tt0317248, tt0119396, tt0048021, tt0087803, t...</td>\n",
       "      <td>1,2,2,1,2,1,1,1,1,1,2,1,1,1,1,2,1,1,1,1,1,1,1,...</td>\n",
       "    </tr>\n",
       "    <tr>\n",
       "      <th>3</th>\n",
       "      <td>iyyt03</td>\n",
       "      <td>1600959529</td>\n",
       "      <td>Looking for movies which are fun and not too s...</td>\n",
       "      <td>Hey! I am looking for movie recommendations wh...</td>\n",
       "      <td>[tt0094898, tt2294449, tt1232829, tt1187043, t...</td>\n",
       "      <td>1,1,1,1,1,1,1,1,1,1,1,1</td>\n",
       "    </tr>\n",
       "    <tr>\n",
       "      <th>4</th>\n",
       "      <td>iyyjk1</td>\n",
       "      <td>1600958640</td>\n",
       "      <td>All sherlock holmes movies and tv shows</td>\n",
       "      <td>Looking for all the sherlock holmes movies and...</td>\n",
       "      <td>[tt0091223, tt0047573, tt0090357, tt0087803]</td>\n",
       "      <td>1,1,1,1</td>\n",
       "    </tr>\n",
       "  </tbody>\n",
       "</table>\n",
       "</div>"
      ],
      "text/plain": [
       "       id  created_utc                                              title  \\\n",
       "0  iyzb2g   1600961198           Gay romantic film with an engaging plot.   \n",
       "1  iyz81n   1600960931                          FIRST TIME HAVING NETLIX!   \n",
       "2  iyz3e7   1600960479  Movies where main characters are or become cri...   \n",
       "3  iyyt03   1600959529  Looking for movies which are fun and not too s...   \n",
       "4  iyyjk1   1600958640            All sherlock holmes movies and tv shows   \n",
       "\n",
       "                                            selftext  \\\n",
       "0  Not asking for something very deep or slow pac...   \n",
       "1  Need to fill up My List!  I enjoy edge of your...   \n",
       "2  basically I want a fun movie to kill time with...   \n",
       "3  Hey! I am looking for movie recommendations wh...   \n",
       "4  Looking for all the sherlock holmes movies and...   \n",
       "\n",
       "                                         suggestions  \\\n",
       "0                                                 []   \n",
       "1  [tt1734493, tt4263482, tt0457430, tt4846232, t...   \n",
       "2  [tt0317248, tt0119396, tt0048021, tt0087803, t...   \n",
       "3  [tt0094898, tt2294449, tt1232829, tt1187043, t...   \n",
       "4       [tt0091223, tt0047573, tt0090357, tt0087803]   \n",
       "\n",
       "                                              scores  \n",
       "0                                                     \n",
       "1                          1,1,1,1,1,1,1,1,1,1,1,1,1  \n",
       "2  1,2,2,1,2,1,1,1,1,1,2,1,1,1,1,2,1,1,1,1,1,1,1,...  \n",
       "3                            1,1,1,1,1,1,1,1,1,1,1,1  \n",
       "4                                            1,1,1,1  "
      ]
     },
     "execution_count": 438,
     "metadata": {},
     "output_type": "execute_result"
    }
   ],
   "source": [
    "requests_with_suggestions.head()"
   ]
  },
  {
   "cell_type": "code",
   "execution_count": 439,
   "metadata": {},
   "outputs": [],
   "source": [
    "requests_with_suggestions['suggestions'] = requests_with_suggestions['suggestions'].apply(list_to_string)"
   ]
  },
  {
   "cell_type": "code",
   "execution_count": 440,
   "metadata": {},
   "outputs": [
    {
     "data": {
      "text/plain": [
       "0                                                      NaN\n",
       "1        tt1734493%tt4263482%tt0457430%tt4846232%tt0443...\n",
       "2        tt0317248%tt0119396%tt0048021%tt0087803%tt2872...\n",
       "3        tt0094898%tt2294449%tt1232829%tt1187043%tt0120...\n",
       "4                  tt0091223%tt0047573%tt0090357%tt0087803\n",
       "                               ...                        \n",
       "11324                                                  NaN\n",
       "11325                                                  NaN\n",
       "11326                                                  NaN\n",
       "11327                                                  NaN\n",
       "11328                                                  NaN\n",
       "Name: suggestions, Length: 11329, dtype: object"
      ]
     },
     "execution_count": 440,
     "metadata": {},
     "output_type": "execute_result"
    }
   ],
   "source": [
    "requests_with_suggestions['suggestions']"
   ]
  },
  {
   "cell_type": "code",
   "execution_count": 441,
   "metadata": {},
   "outputs": [],
   "source": [
    "requests_with_suggestions['selftext'] = requests_with_suggestions['selftext'].astype(str)"
   ]
  },
  {
   "cell_type": "code",
   "execution_count": 442,
   "metadata": {},
   "outputs": [
    {
     "data": {
      "text/plain": [
       "False    9729\n",
       "True     1600\n",
       "Name: selftext, dtype: int64"
      ]
     },
     "execution_count": 442,
     "metadata": {},
     "output_type": "execute_result"
    }
   ],
   "source": [
    "(requests_with_suggestions['selftext'] == 'nan').value_counts()"
   ]
  },
  {
   "cell_type": "code",
   "execution_count": 443,
   "metadata": {},
   "outputs": [],
   "source": [
    "#Drop all rows without suggestions\n",
    "requests_with_suggestions.dropna(inplace=True)"
   ]
  },
  {
   "cell_type": "code",
   "execution_count": 444,
   "metadata": {},
   "outputs": [
    {
     "name": "stdout",
     "output_type": "stream",
     "text": [
      "<class 'pandas.core.frame.DataFrame'>\n",
      "Int64Index: 8686 entries, 1 to 11318\n",
      "Data columns (total 6 columns):\n",
      " #   Column       Non-Null Count  Dtype \n",
      "---  ------       --------------  ----- \n",
      " 0   id           8686 non-null   object\n",
      " 1   created_utc  8686 non-null   int64 \n",
      " 2   title        8686 non-null   object\n",
      " 3   selftext     8686 non-null   object\n",
      " 4   suggestions  8686 non-null   object\n",
      " 5   scores       8686 non-null   object\n",
      "dtypes: int64(1), object(5)\n",
      "memory usage: 475.0+ KB\n"
     ]
    }
   ],
   "source": [
    "requests_with_suggestions.info()"
   ]
  },
  {
   "cell_type": "code",
   "execution_count": 445,
   "metadata": {},
   "outputs": [
    {
     "data": {
      "text/html": [
       "<div>\n",
       "<style scoped>\n",
       "    .dataframe tbody tr th:only-of-type {\n",
       "        vertical-align: middle;\n",
       "    }\n",
       "\n",
       "    .dataframe tbody tr th {\n",
       "        vertical-align: top;\n",
       "    }\n",
       "\n",
       "    .dataframe thead th {\n",
       "        text-align: right;\n",
       "    }\n",
       "</style>\n",
       "<table border=\"1\" class=\"dataframe\">\n",
       "  <thead>\n",
       "    <tr style=\"text-align: right;\">\n",
       "      <th></th>\n",
       "      <th>id</th>\n",
       "      <th>created_utc</th>\n",
       "      <th>title</th>\n",
       "      <th>selftext</th>\n",
       "      <th>suggestions</th>\n",
       "      <th>scores</th>\n",
       "    </tr>\n",
       "  </thead>\n",
       "  <tbody>\n",
       "    <tr>\n",
       "      <th>1</th>\n",
       "      <td>iyz81n</td>\n",
       "      <td>1600960931</td>\n",
       "      <td>FIRST TIME HAVING NETLIX!</td>\n",
       "      <td>Need to fill up My List!  I enjoy edge of your...</td>\n",
       "      <td>tt1734493%tt4263482%tt0457430%tt4846232%tt0443...</td>\n",
       "      <td>1,1,1,1,1,1,1,1,1,1,1,1,1</td>\n",
       "    </tr>\n",
       "    <tr>\n",
       "      <th>2</th>\n",
       "      <td>iyz3e7</td>\n",
       "      <td>1600960479</td>\n",
       "      <td>Movies where main characters are or become cri...</td>\n",
       "      <td>basically I want a fun movie to kill time with...</td>\n",
       "      <td>tt0317248%tt0119396%tt0048021%tt0087803%tt2872...</td>\n",
       "      <td>1,2,2,1,2,1,1,1,1,1,2,1,1,1,1,2,1,1,1,1,1,1,1,...</td>\n",
       "    </tr>\n",
       "    <tr>\n",
       "      <th>3</th>\n",
       "      <td>iyyt03</td>\n",
       "      <td>1600959529</td>\n",
       "      <td>Looking for movies which are fun and not too s...</td>\n",
       "      <td>Hey! I am looking for movie recommendations wh...</td>\n",
       "      <td>tt0094898%tt2294449%tt1232829%tt1187043%tt0120...</td>\n",
       "      <td>1,1,1,1,1,1,1,1,1,1,1,1</td>\n",
       "    </tr>\n",
       "    <tr>\n",
       "      <th>4</th>\n",
       "      <td>iyyjk1</td>\n",
       "      <td>1600958640</td>\n",
       "      <td>All sherlock holmes movies and tv shows</td>\n",
       "      <td>Looking for all the sherlock holmes movies and...</td>\n",
       "      <td>tt0091223%tt0047573%tt0090357%tt0087803</td>\n",
       "      <td>1,1,1,1</td>\n",
       "    </tr>\n",
       "    <tr>\n",
       "      <th>5</th>\n",
       "      <td>iyxzfg</td>\n",
       "      <td>1600956699</td>\n",
       "      <td>Films with supportive couples or families, ant...</td>\n",
       "      <td>Fairly newish to Reddit so apologies if postin...</td>\n",
       "      <td>tt0272020</td>\n",
       "      <td>1</td>\n",
       "    </tr>\n",
       "  </tbody>\n",
       "</table>\n",
       "</div>"
      ],
      "text/plain": [
       "       id  created_utc                                              title  \\\n",
       "1  iyz81n   1600960931                          FIRST TIME HAVING NETLIX!   \n",
       "2  iyz3e7   1600960479  Movies where main characters are or become cri...   \n",
       "3  iyyt03   1600959529  Looking for movies which are fun and not too s...   \n",
       "4  iyyjk1   1600958640            All sherlock holmes movies and tv shows   \n",
       "5  iyxzfg   1600956699  Films with supportive couples or families, ant...   \n",
       "\n",
       "                                            selftext  \\\n",
       "1  Need to fill up My List!  I enjoy edge of your...   \n",
       "2  basically I want a fun movie to kill time with...   \n",
       "3  Hey! I am looking for movie recommendations wh...   \n",
       "4  Looking for all the sherlock holmes movies and...   \n",
       "5  Fairly newish to Reddit so apologies if postin...   \n",
       "\n",
       "                                         suggestions  \\\n",
       "1  tt1734493%tt4263482%tt0457430%tt4846232%tt0443...   \n",
       "2  tt0317248%tt0119396%tt0048021%tt0087803%tt2872...   \n",
       "3  tt0094898%tt2294449%tt1232829%tt1187043%tt0120...   \n",
       "4            tt0091223%tt0047573%tt0090357%tt0087803   \n",
       "5                                          tt0272020   \n",
       "\n",
       "                                              scores  \n",
       "1                          1,1,1,1,1,1,1,1,1,1,1,1,1  \n",
       "2  1,2,2,1,2,1,1,1,1,1,2,1,1,1,1,2,1,1,1,1,1,1,1,...  \n",
       "3                            1,1,1,1,1,1,1,1,1,1,1,1  \n",
       "4                                            1,1,1,1  \n",
       "5                                                  1  "
      ]
     },
     "execution_count": 445,
     "metadata": {},
     "output_type": "execute_result"
    }
   ],
   "source": [
    "requests_with_suggestions.head()"
   ]
  },
  {
   "cell_type": "code",
   "execution_count": 446,
   "metadata": {},
   "outputs": [],
   "source": [
    "requests_with_suggestions.to_csv('./movies_data/requests_with_suggestions.csv', index = False)"
   ]
  },
  {
   "cell_type": "markdown",
   "metadata": {},
   "source": [
    "----"
   ]
  },
  {
   "cell_type": "markdown",
   "metadata": {},
   "source": [
    "The following code is designed to find those titles that are severely overrepresented in the suggestions - because they are one-word titles that are very common words."
   ]
  },
  {
   "cell_type": "code",
   "execution_count": 151,
   "metadata": {},
   "outputs": [],
   "source": [
    "title_suggestions = {tt_id : 0 for tt_id in movies['id']}\n",
    "\n",
    "for sugg_list in sugg_list_list:\n",
    "    for sugg in sugg_list:\n",
    "        title_suggestions[sugg] += 1"
   ]
  },
  {
   "cell_type": "code",
   "execution_count": 152,
   "metadata": {},
   "outputs": [],
   "source": [
    "title_votes = dict(zip(movies['id'], movies['num_votes']))"
   ]
  },
  {
   "cell_type": "code",
   "execution_count": 197,
   "metadata": {},
   "outputs": [],
   "source": [
    "titles_df = pd.DataFrame(data = title_suggestions.values(), index = title_suggestions.keys(), columns=['suggestions'])\n",
    "\n",
    "titles_df['votes'] = title_votes.values()\n",
    "\n",
    "titles_df = titles_df[titles_df['suggestions'] > 0]\n",
    "\n",
    "sugg_max = max(titles_df['suggestions'])\n",
    "vote_max = max(titles_df['votes'])\n",
    "titles_df['suggestions'] = titles_df['suggestions'].apply(lambda x : x / sugg_max)\n",
    "titles_df['votes'] = titles_df['votes'].apply(lambda x : x / vote_max)\n",
    "titles_df['title'] = titles_df.index.map(lambda s : title_dict[s]).values #https://stackoverflow.com/questions/20025325/apply-function-on-dataframe-index\n",
    "titles_df = titles_df.sort_values(by = 'votes', ascending = False)\n",
    "\n",
    "titles_df['difference'] = titles_df['votes'] - titles_df['suggestions']"
   ]
  },
  {
   "cell_type": "code",
   "execution_count": 214,
   "metadata": {},
   "outputs": [
    {
     "name": "stderr",
     "output_type": "stream",
     "text": [
      "C:\\Users\\Caleb\\anaconda3\\envs\\dsi\\lib\\site-packages\\pandas\\plotting\\_matplotlib\\core.py:1235: UserWarning: FixedFormatter should only be used together with FixedLocator\n",
      "  ax.set_xticklabels(xticklabels)\n"
     ]
    },
    {
     "data": {
      "image/png": "[encoded data removed]",
      "text/plain": [
       "<Figure size 864x720 with 1 Axes>"
      ]
     },
     "metadata": {
      "needs_background": "light"
     },
     "output_type": "display_data"
    }
   ],
   "source": [
    "titles_df[['suggestions', 'votes']].plot(figsize = (12,10))\n",
    "plt.title(\"IMDB votes and Reddit suggestions\", fontsize = 22);"
   ]
  },
  {
   "cell_type": "code",
   "execution_count": 410,
   "metadata": {},
   "outputs": [
    {
     "data": {
      "text/html": [
       "<div>\n",
       "<style scoped>\n",
       "    .dataframe tbody tr th:only-of-type {\n",
       "        vertical-align: middle;\n",
       "    }\n",
       "\n",
       "    .dataframe tbody tr th {\n",
       "        vertical-align: top;\n",
       "    }\n",
       "\n",
       "    .dataframe thead th {\n",
       "        text-align: right;\n",
       "    }\n",
       "</style>\n",
       "<table border=\"1\" class=\"dataframe\">\n",
       "  <thead>\n",
       "    <tr style=\"text-align: right;\">\n",
       "      <th></th>\n",
       "      <th>suggestions</th>\n",
       "      <th>votes</th>\n",
       "      <th>title</th>\n",
       "      <th>difference</th>\n",
       "    </tr>\n",
       "  </thead>\n",
       "  <tbody>\n",
       "    <tr>\n",
       "      <th>tt1396484</th>\n",
       "      <td>1.000000</td>\n",
       "      <td>0.194412</td>\n",
       "      <td>It</td>\n",
       "      <td>-0.805588</td>\n",
       "    </tr>\n",
       "    <tr>\n",
       "      <th>tt0436364</th>\n",
       "      <td>0.620830</td>\n",
       "      <td>0.002968</td>\n",
       "      <td>Good</td>\n",
       "      <td>-0.617862</td>\n",
       "    </tr>\n",
       "    <tr>\n",
       "      <th>tt4298958</th>\n",
       "      <td>0.470572</td>\n",
       "      <td>0.003886</td>\n",
       "      <td>Sweet Bean</td>\n",
       "      <td>-0.466686</td>\n",
       "    </tr>\n",
       "    <tr>\n",
       "      <th>tt0283632</th>\n",
       "      <td>0.372932</td>\n",
       "      <td>0.005343</td>\n",
       "      <td>Wes Craven Presents: They</td>\n",
       "      <td>-0.367589</td>\n",
       "    </tr>\n",
       "    <tr>\n",
       "      <th>tt3774694</th>\n",
       "      <td>0.262273</td>\n",
       "      <td>0.020191</td>\n",
       "      <td>Love</td>\n",
       "      <td>-0.242082</td>\n",
       "    </tr>\n",
       "  </tbody>\n",
       "</table>\n",
       "</div>"
      ],
      "text/plain": [
       "           suggestions     votes                      title  difference\n",
       "tt1396484     1.000000  0.194412                         It   -0.805588\n",
       "tt0436364     0.620830  0.002968                       Good   -0.617862\n",
       "tt4298958     0.470572  0.003886                 Sweet Bean   -0.466686\n",
       "tt0283632     0.372932  0.005343  Wes Craven Presents: They   -0.367589\n",
       "tt3774694     0.262273  0.020191                       Love   -0.242082"
      ]
     },
     "execution_count": 410,
     "metadata": {},
     "output_type": "execute_result"
    }
   ],
   "source": [
    "titles_df.sort_values(by = 'difference', ascending = True)[:5]"
   ]
  },
  {
   "cell_type": "code",
   "execution_count": 412,
   "metadata": {},
   "outputs": [
    {
     "name": "stderr",
     "output_type": "stream",
     "text": [
      "C:\\Users\\Caleb\\anaconda3\\envs\\dsi\\lib\\site-packages\\ipykernel_launcher.py:3: SettingWithCopyWarning: \n",
      "A value is trying to be set on a copy of a slice from a DataFrame.\n",
      "Try using .loc[row_indexer,col_indexer] = value instead\n",
      "\n",
      "See the caveats in the documentation: https://pandas.pydata.org/pandas-docs/stable/user_guide/indexing.html#returning-a-view-versus-a-copy\n",
      "  This is separate from the ipykernel package so we can avoid doing imports until\n"
     ]
    }
   ],
   "source": [
    "problem_titles = movies[movies['id'].isin(titles_df[titles_df['difference'] < 0 - titles_df['difference'].std()].index.values)]\n",
    "\n",
    "problem_titles['titles'] = problem_titles['titles'].str.split(\"%\")\n",
    "\n",
    "titles_list = problem_titles['titles']"
   ]
  },
  {
   "cell_type": "code",
   "execution_count": 413,
   "metadata": {},
   "outputs": [],
   "source": [
    "to_keep = ['DASturb', 'Dracula', 'Maqbool', 'Masti', 'Ils', 'So-won', 'Te3n']\n",
    "\n",
    "for titles in titles_list:\n",
    "    to_remove = []\n",
    "    for title in titles:\n",
    "        if ' ' not in title and title not in to_keep or title == 'The Other':\n",
    "            to_remove.append(title)\n",
    "    for rmv in to_remove:\n",
    "        titles.remove(rmv)\n"
   ]
  },
  {
   "cell_type": "code",
   "execution_count": 414,
   "metadata": {},
   "outputs": [],
   "source": [
    "def set_to_str(strset):\n",
    "    titles_string = ''\n",
    "    while True:\n",
    "        try:\n",
    "            titles_string += strset.pop() + '%'\n",
    "        except:\n",
    "            break\n",
    "    \n",
    "    titles_string = titles_string[:-1]\n",
    "    return titles_string"
   ]
  },
  {
   "cell_type": "code",
   "execution_count": 415,
   "metadata": {},
   "outputs": [],
   "source": [
    "corrections = problem_titles[['id', 'titles']].copy()\n",
    "\n",
    "corrections['titles'] = corrections['titles'].apply(set_to_str)\n",
    "\n",
    "corrections.to_csv('movies_data/title_corrections.csv', index = False)"
   ]
  },
  {
   "cell_type": "code",
   "execution_count": null,
   "metadata": {},
   "outputs": [],
   "source": []
  }
 ],
 "metadata": {
  "kernelspec": {
   "display_name": "Python 3",
   "language": "python",
   "name": "python3"
  },
  "language_info": {
   "codemirror_mode": {
    "name": "ipython",
    "version": 3
   },
   "file_extension": ".py",
   "mimetype": "text/x-python",
   "name": "python",
   "nbconvert_exporter": "python",
   "pygments_lexer": "ipython3",
   "version": "3.7.6"
  }
 },
 "nbformat": 4,
 "nbformat_minor": 4
}
